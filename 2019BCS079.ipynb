{
  "nbformat": 4,
  "nbformat_minor": 0,
  "metadata": {
    "colab": {
      "name": "2019BCS079.ipynb",
      "provenance": [],
      "authorship_tag": "ABX9TyMyElcpR1A4rFoa97jIfYYX",
      "include_colab_link": true
    },
    "kernelspec": {
      "name": "python3",
      "display_name": "Python 3"
    },
    "language_info": {
      "name": "python"
    }
  },
  "cells": [
    {
      "cell_type": "markdown",
      "metadata": {
        "id": "view-in-github",
        "colab_type": "text"
      },
      "source": [
        "<a href=\"https://colab.research.google.com/github/Krishna-Gandhi/IR/blob/main/2019BCS079.ipynb\" target=\"_parent\"><img src=\"https://colab.research.google.com/assets/colab-badge.svg\" alt=\"Open In Colab\"/></a>"
      ]
    },
    {
      "cell_type": "code",
      "metadata": {
        "id": "oSUPwJ-XKKra"
      },
      "source": [
        "# importing all modules\n",
        "import pandas as pd\n",
        "import math\n",
        "import random\n",
        "import matplotlib.pyplot as plt\n",
        "from sklearn.model_selection import train_test_split\n",
        "from keras import models\n",
        "from keras import layers\n",
        "from keras import regularizers\n",
        "import numpy as np\n"
      ],
      "execution_count": 1,
      "outputs": []
    },
    {
      "cell_type": "code",
      "metadata": {
        "id": "NCB3gxOQKQyx"
      },
      "source": [
        "l1 = l2 = l3 = 7 # length"
      ],
      "execution_count": 2,
      "outputs": []
    },
    {
      "cell_type": "code",
      "metadata": {
        "id": "0Ll2unahKT6u"
      },
      "source": [
        "def three_link_manipulator_dataset():\n",
        "    rows = []\n",
        "    for i in range(1, 100000):\n",
        "        theta1 = round(random.uniform(0, math.pi), 2)\n",
        "        theta2 = round(random.uniform(-math.pi, 0), 2)\n",
        "        theta3 = round(random.uniform(-math.pi/2, math.pi/2), 2)\n",
        "        \n",
        "        x = round(l1*math.cos(theta1)+l2*math.cos(theta1+theta2)+l3*math.cos(theta1+theta2+theta3), 2)\n",
        "        y = round(l1*math.sin(theta1)+l2*math.sin(theta1+theta2)+l3*math.sin(theta1+theta2+theta3), 2)\n",
        "        phi = round(math.degrees(theta1)+math.degrees(theta2)+math.degrees(theta3), 2)\n",
        "        \n",
        "        rows.append([theta1, theta2, theta3, x, y, phi])\n",
        "\n",
        "    df = pd.DataFrame(rows, columns=['theta1', 'theta2', 'theta3', 'x', 'y', 'phi'])\n",
        "    df.to_csv('three_link.csv', index=False)\n",
        "    \n",
        "three_link_manipulator_dataset()"
      ],
      "execution_count": 3,
      "outputs": []
    },
    {
      "cell_type": "code",
      "metadata": {
        "colab": {
          "base_uri": "https://localhost:8080/",
          "height": 195
        },
        "id": "A640--DEKat_",
        "outputId": "bfaa39ba-898d-40cb-a2fd-d7d3ac094207"
      },
      "source": [
        "three_link_data = pd.read_csv('three_link.csv')\n",
        "three_link_data.head()\n"
      ],
      "execution_count": 4,
      "outputs": [
        {
          "output_type": "execute_result",
          "data": {
            "text/html": [
              "<div>\n",
              "<style scoped>\n",
              "    .dataframe tbody tr th:only-of-type {\n",
              "        vertical-align: middle;\n",
              "    }\n",
              "\n",
              "    .dataframe tbody tr th {\n",
              "        vertical-align: top;\n",
              "    }\n",
              "\n",
              "    .dataframe thead th {\n",
              "        text-align: right;\n",
              "    }\n",
              "</style>\n",
              "<table border=\"1\" class=\"dataframe\">\n",
              "  <thead>\n",
              "    <tr style=\"text-align: right;\">\n",
              "      <th></th>\n",
              "      <th>theta1</th>\n",
              "      <th>theta2</th>\n",
              "      <th>theta3</th>\n",
              "      <th>x</th>\n",
              "      <th>y</th>\n",
              "      <th>phi</th>\n",
              "    </tr>\n",
              "  </thead>\n",
              "  <tbody>\n",
              "    <tr>\n",
              "      <th>0</th>\n",
              "      <td>0.78</td>\n",
              "      <td>-3.06</td>\n",
              "      <td>-0.87</td>\n",
              "      <td>-6.58</td>\n",
              "      <td>-0.33</td>\n",
              "      <td>-180.48</td>\n",
              "    </tr>\n",
              "    <tr>\n",
              "      <th>1</th>\n",
              "      <td>1.87</td>\n",
              "      <td>-1.56</td>\n",
              "      <td>-1.18</td>\n",
              "      <td>9.12</td>\n",
              "      <td>3.47</td>\n",
              "      <td>-49.85</td>\n",
              "    </tr>\n",
              "    <tr>\n",
              "      <th>2</th>\n",
              "      <td>2.26</td>\n",
              "      <td>-1.93</td>\n",
              "      <td>-0.40</td>\n",
              "      <td>9.15</td>\n",
              "      <td>7.18</td>\n",
              "      <td>-4.01</td>\n",
              "    </tr>\n",
              "    <tr>\n",
              "      <th>3</th>\n",
              "      <td>1.36</td>\n",
              "      <td>-1.30</td>\n",
              "      <td>-0.57</td>\n",
              "      <td>14.56</td>\n",
              "      <td>3.85</td>\n",
              "      <td>-29.22</td>\n",
              "    </tr>\n",
              "    <tr>\n",
              "      <th>4</th>\n",
              "      <td>1.84</td>\n",
              "      <td>-1.81</td>\n",
              "      <td>-0.58</td>\n",
              "      <td>11.10</td>\n",
              "      <td>3.30</td>\n",
              "      <td>-31.51</td>\n",
              "    </tr>\n",
              "  </tbody>\n",
              "</table>\n",
              "</div>"
            ],
            "text/plain": [
              "   theta1  theta2  theta3      x     y     phi\n",
              "0    0.78   -3.06   -0.87  -6.58 -0.33 -180.48\n",
              "1    1.87   -1.56   -1.18   9.12  3.47  -49.85\n",
              "2    2.26   -1.93   -0.40   9.15  7.18   -4.01\n",
              "3    1.36   -1.30   -0.57  14.56  3.85  -29.22\n",
              "4    1.84   -1.81   -0.58  11.10  3.30  -31.51"
            ]
          },
          "metadata": {
            "tags": []
          },
          "execution_count": 4
        }
      ]
    },
    {
      "cell_type": "code",
      "metadata": {
        "colab": {
          "base_uri": "https://localhost:8080/",
          "height": 265
        },
        "id": "7XJmfsi3Kpch",
        "outputId": "9ec9a813-7dac-48ab-afea-03cf84b14d3b"
      },
      "source": [
        "plt.scatter(three_link_data['x'], three_link_data['y'])\n",
        "plt.show()"
      ],
      "execution_count": 5,
      "outputs": [
        {
          "output_type": "display_data",
          "data": {
            "image/png": "[encoded data removed]",
            "text/plain": [
              "<Figure size 432x288 with 1 Axes>"
            ]
          },
          "metadata": {
            "tags": [],
            "needs_background": "light"
          }
        }
      ]
    },
    {
      "cell_type": "code",
      "metadata": {
        "id": "OyMNzDBJKsqL"
      },
      "source": [
        "# Splitting training and testing dataset\n",
        "X = three_link_data[['x', 'y', 'phi']]\n",
        "y = three_link_data[['theta1', 'theta2', 'theta3']]\n",
        "train_X, test_X, train_y, test_y = train_test_split(X, y, test_size=0.1)"
      ],
      "execution_count": 6,
      "outputs": []
    },
    {
      "cell_type": "code",
      "metadata": {
        "colab": {
          "base_uri": "https://localhost:8080/"
        },
        "id": "25H0RJWFKv9f",
        "outputId": "f9e18777-e52a-458d-f9b9-94dad2381f5d"
      },
      "source": [
        "# Defining model\n",
        "\n",
        "model = models.Sequential()\n",
        "model.add(layers.Dense(units=3, input_dim=3, kernel_initializer='uniform'))\n",
        "model.add(layers.Dense(units=100, kernel_initializer='uniform', activation='relu'))\n",
        "model.add(layers.Dense(units=100, kernel_initializer='uniform', activation='relu'))\n",
        "model.add(layers.Dense(units=3, kernel_initializer = 'uniform', activation='linear'))\n",
        "\n",
        "model.summary()"
      ],
      "execution_count": 7,
      "outputs": [
        {
          "output_type": "stream",
          "text": [
            "Model: \"sequential\"\n",
            "_________________________________________________________________\n",
            "Layer (type)                 Output Shape              Param #   \n",
            "=================================================================\n",
            "dense (Dense)                (None, 3)                 12        \n",
            "_________________________________________________________________\n",
            "dense_1 (Dense)              (None, 100)               400       \n",
            "_________________________________________________________________\n",
            "dense_2 (Dense)              (None, 100)               10100     \n",
            "_________________________________________________________________\n",
            "dense_3 (Dense)              (None, 3)                 303       \n",
            "=================================================================\n",
            "Total params: 10,815\n",
            "Trainable params: 10,815\n",
            "Non-trainable params: 0\n",
            "_________________________________________________________________\n"
          ],
          "name": "stdout"
        }
      ]
    },
    {
      "cell_type": "code",
      "metadata": {
        "id": "udV5d_YUKzbc"
      },
      "source": [
        "model.compile(optimizer='adam', loss='mean_squared_error', metrics=['accuracy'])"
      ],
      "execution_count": 8,
      "outputs": []
    },
    {
      "cell_type": "code",
      "metadata": {
        "colab": {
          "base_uri": "https://localhost:8080/"
        },
        "id": "Y8Nj6LkEK-63",
        "outputId": "5c1234ca-6116-4f4e-bcd9-ec78c3e50bf6"
      },
      "source": [
        "# training model\n",
        "history = model.fit(train_X, train_y, epochs=30, validation_split=0.1, shuffle=True)"
      ],
      "execution_count": 9,
      "outputs": [
        {
          "output_type": "stream",
          "text": [
            "Epoch 1/30\n",
            "2532/2532 [==============================] - 5s 2ms/step - loss: 0.4304 - accuracy: 0.9050 - val_loss: 0.0427 - val_accuracy: 0.9601\n",
            "Epoch 2/30\n",
            "2532/2532 [==============================] - 4s 2ms/step - loss: 0.0406 - accuracy: 0.9591 - val_loss: 0.0297 - val_accuracy: 0.9733\n",
            "Epoch 3/30\n",
            "2532/2532 [==============================] - 4s 2ms/step - loss: 0.0298 - accuracy: 0.9670 - val_loss: 0.0258 - val_accuracy: 0.9758\n",
            "Epoch 4/30\n",
            "2532/2532 [==============================] - 4s 2ms/step - loss: 0.0255 - accuracy: 0.9704 - val_loss: 0.0216 - val_accuracy: 0.9794\n",
            "Epoch 5/30\n",
            "2532/2532 [==============================] - 4s 2ms/step - loss: 0.0236 - accuracy: 0.9720 - val_loss: 0.0185 - val_accuracy: 0.9803\n",
            "Epoch 6/30\n",
            "2532/2532 [==============================] - 4s 2ms/step - loss: 0.0220 - accuracy: 0.9752 - val_loss: 0.0312 - val_accuracy: 0.9684\n",
            "Epoch 7/30\n",
            "2532/2532 [==============================] - 4s 2ms/step - loss: 0.0214 - accuracy: 0.9754 - val_loss: 0.0210 - val_accuracy: 0.9743\n",
            "Epoch 8/30\n",
            "2532/2532 [==============================] - 4s 2ms/step - loss: 0.0201 - accuracy: 0.9759 - val_loss: 0.0220 - val_accuracy: 0.9794\n",
            "Epoch 9/30\n",
            "2532/2532 [==============================] - 4s 2ms/step - loss: 0.0194 - accuracy: 0.9756 - val_loss: 0.0208 - val_accuracy: 0.9847\n",
            "Epoch 10/30\n",
            "2532/2532 [==============================] - 4s 2ms/step - loss: 0.0183 - accuracy: 0.9761 - val_loss: 0.0258 - val_accuracy: 0.9842\n",
            "Epoch 11/30\n",
            "2532/2532 [==============================] - 4s 2ms/step - loss: 0.0176 - accuracy: 0.9777 - val_loss: 0.0217 - val_accuracy: 0.9792\n",
            "Epoch 12/30\n",
            "2532/2532 [==============================] - 4s 2ms/step - loss: 0.0164 - accuracy: 0.9780 - val_loss: 0.0165 - val_accuracy: 0.9838\n",
            "Epoch 13/30\n",
            "2532/2532 [==============================] - 4s 2ms/step - loss: 0.0179 - accuracy: 0.9784 - val_loss: 0.0110 - val_accuracy: 0.9864\n",
            "Epoch 14/30\n",
            "2532/2532 [==============================] - 4s 2ms/step - loss: 0.0164 - accuracy: 0.9791 - val_loss: 0.0127 - val_accuracy: 0.9864\n",
            "Epoch 15/30\n",
            "2532/2532 [==============================] - 4s 2ms/step - loss: 0.0148 - accuracy: 0.9817 - val_loss: 0.0148 - val_accuracy: 0.9762\n",
            "Epoch 16/30\n",
            "2532/2532 [==============================] - 4s 2ms/step - loss: 0.0145 - accuracy: 0.9816 - val_loss: 0.0122 - val_accuracy: 0.9787\n",
            "Epoch 17/30\n",
            "2532/2532 [==============================] - 4s 2ms/step - loss: 0.0138 - accuracy: 0.9809 - val_loss: 0.0170 - val_accuracy: 0.9819\n",
            "Epoch 18/30\n",
            "2532/2532 [==============================] - 4s 2ms/step - loss: 0.0142 - accuracy: 0.9813 - val_loss: 0.0140 - val_accuracy: 0.9836\n",
            "Epoch 19/30\n",
            "2532/2532 [==============================] - 4s 2ms/step - loss: 0.0137 - accuracy: 0.9820 - val_loss: 0.0190 - val_accuracy: 0.9796\n",
            "Epoch 20/30\n",
            "2532/2532 [==============================] - 4s 2ms/step - loss: 0.0136 - accuracy: 0.9824 - val_loss: 0.0138 - val_accuracy: 0.9848\n",
            "Epoch 21/30\n",
            "2532/2532 [==============================] - 4s 2ms/step - loss: 0.0130 - accuracy: 0.9820 - val_loss: 0.0106 - val_accuracy: 0.9870\n",
            "Epoch 22/30\n",
            "2532/2532 [==============================] - 4s 2ms/step - loss: 0.0134 - accuracy: 0.9820 - val_loss: 0.0103 - val_accuracy: 0.9837\n",
            "Epoch 23/30\n",
            "2532/2532 [==============================] - 4s 2ms/step - loss: 0.0128 - accuracy: 0.9819 - val_loss: 0.0123 - val_accuracy: 0.9806\n",
            "Epoch 24/30\n",
            "2532/2532 [==============================] - 4s 2ms/step - loss: 0.0124 - accuracy: 0.9832 - val_loss: 0.0237 - val_accuracy: 0.9710\n",
            "Epoch 25/30\n",
            "2532/2532 [==============================] - 4s 2ms/step - loss: 0.0139 - accuracy: 0.9809 - val_loss: 0.0093 - val_accuracy: 0.9868\n",
            "Epoch 26/30\n",
            "2532/2532 [==============================] - 4s 2ms/step - loss: 0.0127 - accuracy: 0.9832 - val_loss: 0.0106 - val_accuracy: 0.9860\n",
            "Epoch 27/30\n",
            "2532/2532 [==============================] - 4s 2ms/step - loss: 0.0120 - accuracy: 0.9828 - val_loss: 0.0122 - val_accuracy: 0.9870\n",
            "Epoch 28/30\n",
            "2532/2532 [==============================] - 4s 2ms/step - loss: 0.0120 - accuracy: 0.9836 - val_loss: 0.0107 - val_accuracy: 0.9889\n",
            "Epoch 29/30\n",
            "2532/2532 [==============================] - 4s 2ms/step - loss: 0.0125 - accuracy: 0.9840 - val_loss: 0.0099 - val_accuracy: 0.9861\n",
            "Epoch 30/30\n",
            "2532/2532 [==============================] - 4s 2ms/step - loss: 0.0116 - accuracy: 0.9836 - val_loss: 0.0099 - val_accuracy: 0.9887\n"
          ],
          "name": "stdout"
        }
      ]
    },
    {
      "cell_type": "code",
      "metadata": {
        "colab": {
          "base_uri": "https://localhost:8080/",
          "height": 573
        },
        "id": "sDQqbBIsLB35",
        "outputId": "652379f8-c625-4607-98bc-e12552465352"
      },
      "source": [
        "# Plotting model accuracy\n",
        "plt.plot(history.history['accuracy'])\n",
        "plt.plot(history.history['val_accuracy'])\n",
        "plt.title('Model Accuracy')\n",
        "plt.ylabel('Accuracy')\n",
        "plt.xlabel('epoch')\n",
        "plt.legend(['train', 'val'], loc='upper left')\n",
        "plt.show()\n",
        "\n",
        "# Plotting model loss\n",
        "plt.plot(history.history['loss'])\n",
        "plt.plot(history.history['val_loss'])\n",
        "plt.title('model loss')\n",
        "plt.ylabel('loss')\n",
        "plt.xlabel('epoch')\n",
        "plt.legend(['train', 'val'], loc='upper left')\n",
        "plt.show()"
      ],
      "execution_count": 10,
      "outputs": [
        {
          "output_type": "display_data",
          "data": {
            "image/png": "[encoded data removed]",
            "text/plain": [
              "<Figure size 432x288 with 1 Axes>"
            ]
          },
          "metadata": {
            "tags": [],
            "needs_background": "light"
          }
        },
        {
          "output_type": "display_data",
          "data": {
            "image/png": "[encoded data removed]",
            "text/plain": [
              "<Figure size 432x288 with 1 Axes>"
            ]
          },
          "metadata": {
            "tags": [],
            "needs_background": "light"
          }
        }
      ]
    },
    {
      "cell_type": "code",
      "metadata": {
        "colab": {
          "base_uri": "https://localhost:8080/"
        },
        "id": "OcoFG2ugLHgL",
        "outputId": "9a875277-2325-48f1-d1e7-95c21793451b"
      },
      "source": [
        "# Evaluating the model on test set\n",
        "\n",
        "test_loss, test_acc = model.evaluate(test_X, test_y)\n",
        "\n",
        "print('\\nTesting Loss = ', test_loss) \n",
        "print('Testing Accuracy = ', test_acc)"
      ],
      "execution_count": 11,
      "outputs": [
        {
          "output_type": "stream",
          "text": [
            "313/313 [==============================] - 0s 968us/step - loss: 0.0093 - accuracy: 0.9896\n",
            "\n",
            "Testing Loss =  0.009349470026791096\n",
            "Testing Accuracy =  0.9896000027656555\n"
          ],
          "name": "stdout"
        }
      ]
    },
    {
      "cell_type": "markdown",
      "metadata": {
        "id": "jSOcq3fBLK8A"
      },
      "source": [
        "Creating dataset for Printing IIITM\n",
        "The below function created data for IIITM, each for loop creates one character of the word."
      ]
    },
    {
      "cell_type": "code",
      "metadata": {
        "id": "KQVaNXCHLQl0"
      },
      "source": [
        "\n",
        "def iiitm_dataset():\n",
        "    rows = []\n",
        "    # for I\n",
        "    arr = np.linspace(5, 7, 100)\n",
        "    for y in arr:\n",
        "        x = 6\n",
        "        theta = math.degrees(math.atan(y/x))\n",
        "        rows.append([x, y, theta])\n",
        "\n",
        "    # for I\n",
        "    arr = np.linspace(5, 7, 100)\n",
        "    for y in arr:\n",
        "        x = 7\n",
        "        theta = math.degrees(math.atan(y/x))\n",
        "        rows.append([x, y, theta])\n",
        "\n",
        "    # for I\n",
        "    arr = np.linspace(5, 7, 100)\n",
        "    for y in arr:\n",
        "        x = 8\n",
        "        theta = math.degrees(math.atan(y/x))\n",
        "        rows.append([x, y, theta])\n",
        "\n",
        "    # for T\n",
        "    arr = np.linspace(9, 10, 100)\n",
        "    for x in arr:\n",
        "        y = 7\n",
        "        theta = math.degrees(math.atan(y/x))\n",
        "        rows.append([x, y, theta])\n",
        "\n",
        "    arr = np.linspace(5, 7, 100)\n",
        "    for y in arr:\n",
        "        x = 9.5\n",
        "        theta = math.degrees(math.atan(y/x))\n",
        "        rows.append([x, y, theta])\n",
        "\n",
        "    # for M\n",
        "    arr = np.linspace(5, 7, 100)\n",
        "    for y in arr:\n",
        "        x = 11\n",
        "        theta = math.degrees(math.atan(y/x))\n",
        "        rows.append([x, y, theta])\n",
        "\n",
        "    arr = np.linspace(5, 7, 100)\n",
        "    for y in arr:\n",
        "        x = ((-y)+29)/2\n",
        "        theta = math.degrees(math.atan(y/x))\n",
        "        rows.append([x, y, theta])\n",
        "\n",
        "    arr = np.linspace(5, 7, 100)\n",
        "    for y in arr:\n",
        "        x = ((y)+19)/2\n",
        "        theta = math.degrees(math.atan(y/x))\n",
        "        rows.append([x, y, theta])\n",
        "\n",
        "    arr = np.linspace(5, 7, 100)\n",
        "    for y in arr:\n",
        "        x = 13\n",
        "        theta = math.degrees(math.atan(y/x))\n",
        "        rows.append([x, y, theta])\n",
        "\n",
        "    df = pd.DataFrame(rows, columns=['x', 'y', 'theta'])\n",
        "    df.to_csv('iiitm.csv', index=False)\n",
        "    \n",
        "iiitm_dataset()"
      ],
      "execution_count": 12,
      "outputs": []
    },
    {
      "cell_type": "code",
      "metadata": {
        "id": "uOrVCx19LTnU"
      },
      "source": [
        "def three_link_forward_kinematics(theta1, theta2, theta3):\n",
        "    x = (np.cos(theta1)*l1)+(np.cos(theta1+theta2)*l2)+(np.cos(theta1+theta2+theta3)*l3)\n",
        "    y = (np.sin(theta1)*l1)+(np.sin(theta1+theta2)*l2)+(np.sin(theta1+theta2+theta3)*l3)\n",
        "\n",
        "    return x, y"
      ],
      "execution_count": 13,
      "outputs": []
    },
    {
      "cell_type": "markdown",
      "metadata": {
        "id": "3ZpnfLjvLdG3"
      },
      "source": [
        "Testing the model on IIITM dataset"
      ]
    },
    {
      "cell_type": "code",
      "metadata": {
        "id": "z6z1xudSLhcd"
      },
      "source": [
        "iiitm_data = pd.read_csv('iiitm.csv')\n",
        "iiitm_predictions = model.predict(iiitm_data.values)\n",
        "x_predictions, y_predictions = three_link_forward_kinematics(iiitm_predictions[:,0], iiitm_predictions[:,1], iiitm_predictions[:,2])"
      ],
      "execution_count": 14,
      "outputs": []
    },
    {
      "cell_type": "markdown",
      "metadata": {
        "id": "dq4ZjFHDLqok"
      },
      "source": [
        "Plotting Orignal data, Predicted Data and both of the simuntaneously"
      ]
    },
    {
      "cell_type": "code",
      "metadata": {
        "colab": {
          "base_uri": "https://localhost:8080/",
          "height": 761
        },
        "id": "j-2HBJdRLtkI",
        "outputId": "6d377c16-3f28-4773-d344-d19c9ee8caa8"
      },
      "source": [
        "# Original\n",
        "plt.plot(iiitm_data['x'], iiitm_data['y'], 'go')\n",
        "plt.show()\n",
        "\n",
        "# Predicted\n",
        "plt.plot(x_predictions, y_predictions, 'bo')\n",
        "plt.show()\n",
        "\n",
        "# Original and Predicted\n",
        "plt.plot(iiitm_data['x'], iiitm_data['y'], 'go')\n",
        "plt.plot(x_predictions, y_predictions, 'bo')\n",
        "plt.show()"
      ],
      "execution_count": 15,
      "outputs": [
        {
          "output_type": "display_data",
          "data": {
            "image/png": "[encoded data removed]",
            "text/plain": [
              "<Figure size 432x288 with 1 Axes>"
            ]
          },
          "metadata": {
            "tags": [],
            "needs_background": "light"
          }
        },
        {
          "output_type": "display_data",
          "data": {
            "image/png": "[encoded data removed]",
            "text/plain": [
              "<Figure size 432x288 with 1 Axes>"
            ]
          },
          "metadata": {
            "tags": [],
            "needs_background": "light"
          }
        },
        {
          "output_type": "display_data",
          "data": {
            "image/png": "[encoded data removed]",
            "text/plain": [
              "<Figure size 432x288 with 1 Axes>"
            ]
          },
          "metadata": {
            "tags": [],
            "needs_background": "light"
          }
        }
      ]
    }
  ]
}